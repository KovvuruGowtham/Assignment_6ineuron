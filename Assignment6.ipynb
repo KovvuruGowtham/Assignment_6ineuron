{
 "cells": [
  {
   "cell_type": "raw",
   "id": "8cde63c3-922b-4566-a407-e3f130ebf9df",
   "metadata": {},
   "source": [
    "1. What are escape characters, and how do you use them?"
   ]
  },
  {
   "cell_type": "raw",
   "id": "2b48b582-6f40-4d68-9c1c-60bb92ec254a",
   "metadata": {},
   "source": [
    "Ans: Escape characters are used to insert characters that are illegal in a string. An example of an escape character is backslash (\\) followed by the character we want to insert.\n",
    "Example:"
   ]
  },
  {
   "cell_type": "code",
   "execution_count": 12,
   "id": "8703ec19-e1fe-476b-940f-22b3b599e633",
   "metadata": {},
   "outputs": [
    {
     "data": {
      "text/plain": [
       "'He is \"5th\" PM of the country'"
      ]
     },
     "execution_count": 12,
     "metadata": {},
     "output_type": "execute_result"
    }
   ],
   "source": [
    "a = \"He is \\\"5th\\\" PM of the country\"\n",
    "a"
   ]
  },
  {
   "cell_type": "raw",
   "id": "d7eac152-7e04-4e90-b272-ed8a4795eb0a",
   "metadata": {},
   "source": [
    "2. What do the escape characters n and t stand for?"
   ]
  },
  {
   "cell_type": "code",
   "execution_count": null,
   "id": "146435d9-b96a-4f74-8a04-93a7dedc232f",
   "metadata": {},
   "outputs": [],
   "source": [
    "ans: \\n is used for initiating a new line for the characters immediately following it\n",
    "\\t is used for inserting tab for characters immediately following it."
   ]
  },
  {
   "cell_type": "raw",
   "id": "93978f3a-6eca-45e6-aea1-97fd1734e1ae",
   "metadata": {},
   "source": [
    "3. What is the way to include backslash characters in a string?"
   ]
  },
  {
   "cell_type": "raw",
   "id": "b0271fc7-324b-4491-8039-762498e2e5f8",
   "metadata": {},
   "source": [
    "Ans: \n",
    "a.By using 2 backslashes to have 1 backslash in the string:"
   ]
  },
  {
   "cell_type": "code",
   "execution_count": 1,
   "id": "8536f490-6308-4e2f-aa58-626d1b4e9efb",
   "metadata": {},
   "outputs": [
    {
     "name": "stdout",
     "output_type": "stream",
     "text": [
      "This will insert one \\ (backslash).\n"
     ]
    }
   ],
   "source": [
    "txt = \"This will insert one \\\\ (backslash).\"\n",
    "print(txt) "
   ]
  },
  {
   "cell_type": "raw",
   "id": "7a6d96d0-e12f-4e66-81a7-5827accd5193",
   "metadata": {},
   "source": [
    "b.By using 3 backslashes to have 2 backslashes in the string and so on"
   ]
  },
  {
   "cell_type": "code",
   "execution_count": 8,
   "id": "acb15429-7176-4c73-9961-c4a30e212e9d",
   "metadata": {},
   "outputs": [
    {
     "name": "stdout",
     "output_type": "stream",
     "text": [
      "This will insert one \\\\.\n"
     ]
    }
   ],
   "source": [
    "txt = \"This will insert one \\\\\\.\"\n",
    "print(txt) "
   ]
  },
  {
   "cell_type": "raw",
   "id": "938c7259-b466-4f52-b87b-eb31a9acd336",
   "metadata": {},
   "source": [
    "4. The string \"Howl's Moving Castle\" is a correct value. Why isn't the single quote character in the\n",
    "word Howl's not escaped a problem?"
   ]
  },
  {
   "cell_type": "raw",
   "id": "dfb64bc6-6fa3-4a07-a0b4-3c0aca7fd000",
   "metadata": {},
   "source": [
    "Ans: This is because, the double quotes are being used in the beginning and at the end, which will not pose any issue."
   ]
  },
  {
   "cell_type": "code",
   "execution_count": 12,
   "id": "1ac75dbd-aa2d-4c4a-a0f3-6d329c3986ea",
   "metadata": {},
   "outputs": [
    {
     "name": "stdout",
     "output_type": "stream",
     "text": [
      "Howl's Moving Castle\n"
     ]
    }
   ],
   "source": [
    "a = \"Howl's Moving Castle\"\n",
    "print(a)"
   ]
  },
  {
   "cell_type": "raw",
   "id": "60be5c1d-c576-4622-83c1-03dd9e880ced",
   "metadata": {},
   "source": [
    "5. How do you write a string of newlines if you don't want to use the n character?"
   ]
  },
  {
   "cell_type": "code",
   "execution_count": null,
   "id": "bbd99e3d-1f02-4954-94d6-eec3aa427da1",
   "metadata": {},
   "outputs": [],
   "source": [
    "Ans:By writing strings in multiple lines like below:"
   ]
  },
  {
   "cell_type": "code",
   "execution_count": 15,
   "id": "11186e68-0766-4225-afc5-80b4ec2a88d5",
   "metadata": {},
   "outputs": [
    {
     "name": "stdout",
     "output_type": "stream",
     "text": [
      "\n",
      "      He is a hero\n",
      "      He is also a director\n",
      "      He is also a producer\n",
      "\n"
     ]
    }
   ],
   "source": [
    "a = \"\"\"\n",
    "      He is a hero\n",
    "      He is also a director\n",
    "      He is also a producer\n",
    "\"\"\"\n",
    "print(a)"
   ]
  },
  {
   "cell_type": "code",
   "execution_count": null,
   "id": "92234702-9b6a-4a96-a23a-8c1af80335d9",
   "metadata": {},
   "outputs": [],
   "source": [
    "6. What are the values of the given expressions?\n",
    "'Hello, world!'[1]\n",
    "'Hello, world!'[0:5]\n",
    "'Hello, world!'[:5]\n",
    "'Hello, world!'[3:]"
   ]
  },
  {
   "cell_type": "code",
   "execution_count": 16,
   "id": "683d7c16-b161-4a42-bef4-b34fe37577ff",
   "metadata": {},
   "outputs": [
    {
     "data": {
      "text/plain": [
       "'e'"
      ]
     },
     "execution_count": 16,
     "metadata": {},
     "output_type": "execute_result"
    }
   ],
   "source": [
    "'Hello, world!'[1]"
   ]
  },
  {
   "cell_type": "code",
   "execution_count": 17,
   "id": "bf166f2a-2965-4c74-b905-9b3d6c53e653",
   "metadata": {},
   "outputs": [
    {
     "data": {
      "text/plain": [
       "'Hello'"
      ]
     },
     "execution_count": 17,
     "metadata": {},
     "output_type": "execute_result"
    }
   ],
   "source": [
    "'Hello, world!'[0:5]"
   ]
  },
  {
   "cell_type": "code",
   "execution_count": 18,
   "id": "77a8501a-a269-4b27-8f03-84efce337166",
   "metadata": {},
   "outputs": [
    {
     "data": {
      "text/plain": [
       "'Hello'"
      ]
     },
     "execution_count": 18,
     "metadata": {},
     "output_type": "execute_result"
    }
   ],
   "source": [
    "'Hello, world!'[:5]"
   ]
  },
  {
   "cell_type": "code",
   "execution_count": 19,
   "id": "ac3cc41a-99fc-4357-befb-6a36810fccc3",
   "metadata": {},
   "outputs": [
    {
     "data": {
      "text/plain": [
       "'lo, world!'"
      ]
     },
     "execution_count": 19,
     "metadata": {},
     "output_type": "execute_result"
    }
   ],
   "source": [
    "'Hello, world!'[3:]"
   ]
  },
  {
   "cell_type": "code",
   "execution_count": null,
   "id": "f393a98a-d524-4f40-a8c5-741e7ab8c136",
   "metadata": {},
   "outputs": [],
   "source": [
    "7. What are the values of the following expressions?\n",
    "'Hello'.upper()\n",
    "'Hello'.upper().isupper()\n",
    "'Hello'.upper().lower()"
   ]
  },
  {
   "cell_type": "code",
   "execution_count": 20,
   "id": "027dc3fc-dea0-4010-b677-d460fb67396b",
   "metadata": {},
   "outputs": [
    {
     "data": {
      "text/plain": [
       "'HELLO'"
      ]
     },
     "execution_count": 20,
     "metadata": {},
     "output_type": "execute_result"
    }
   ],
   "source": [
    "'Hello'.upper()"
   ]
  },
  {
   "cell_type": "code",
   "execution_count": 21,
   "id": "b461060b-9563-4f4c-b1be-5c7da156d4df",
   "metadata": {},
   "outputs": [
    {
     "data": {
      "text/plain": [
       "True"
      ]
     },
     "execution_count": 21,
     "metadata": {},
     "output_type": "execute_result"
    }
   ],
   "source": [
    "'Hello'.upper().isupper()"
   ]
  },
  {
   "cell_type": "code",
   "execution_count": 22,
   "id": "0d5046f5-5263-4ad9-8ced-cd944df429fe",
   "metadata": {},
   "outputs": [
    {
     "data": {
      "text/plain": [
       "'hello'"
      ]
     },
     "execution_count": 22,
     "metadata": {},
     "output_type": "execute_result"
    }
   ],
   "source": [
    "'Hello'.upper().lower()"
   ]
  },
  {
   "cell_type": "raw",
   "id": "34c7b7b1-14d0-4016-a76c-a5e79e142ee4",
   "metadata": {},
   "source": [
    "8. What are the values of the following expressions?\n",
    "'Remember, remember, the fifth of July.'.split()\n",
    "'-'.join('There can only one.'.split())"
   ]
  },
  {
   "cell_type": "code",
   "execution_count": 23,
   "id": "974cbcdc-5fd4-4f6f-8413-c3bfe7f2fc25",
   "metadata": {},
   "outputs": [
    {
     "data": {
      "text/plain": [
       "['Remember,', 'remember,', 'the', 'fifth', 'of', 'July.']"
      ]
     },
     "execution_count": 23,
     "metadata": {},
     "output_type": "execute_result"
    }
   ],
   "source": [
    "'Remember, remember, the fifth of July.'.split()"
   ]
  },
  {
   "cell_type": "code",
   "execution_count": 24,
   "id": "d5c2a816-2509-4bea-bc36-93953586006c",
   "metadata": {},
   "outputs": [
    {
     "data": {
      "text/plain": [
       "'There-can-only-one.'"
      ]
     },
     "execution_count": 24,
     "metadata": {},
     "output_type": "execute_result"
    }
   ],
   "source": [
    "'-'.join('There can only one.'.split())"
   ]
  },
  {
   "cell_type": "raw",
   "id": "d88d468a-79e9-4fc4-adc0-a55ea02fd28f",
   "metadata": {},
   "source": [
    "9. What are the methods for right-justifying, left-justifying, and centering a string?"
   ]
  },
  {
   "cell_type": "code",
   "execution_count": null,
   "id": "40539293-19ff-4fcd-aafe-1b1315c44440",
   "metadata": {},
   "outputs": [],
   "source": [
    "Ans: rjust(),ljust() and center()"
   ]
  },
  {
   "cell_type": "code",
   "execution_count": 28,
   "id": "842d5d56-ec04-4216-afeb-f4f34d2a28aa",
   "metadata": {},
   "outputs": [
    {
     "data": {
      "text/plain": [
       "\"-----Howl's Moving Castle-----\""
      ]
     },
     "execution_count": 28,
     "metadata": {},
     "output_type": "execute_result"
    }
   ],
   "source": [
    "a = \"Howl's Moving Castle\"\n",
    "a.center(30,'-')"
   ]
  },
  {
   "cell_type": "code",
   "execution_count": 29,
   "id": "f371a770-2916-44ea-8f22-747b65f5ecd6",
   "metadata": {},
   "outputs": [
    {
     "data": {
      "text/plain": [
       "\"Howl's Moving Castle----------\""
      ]
     },
     "execution_count": 29,
     "metadata": {},
     "output_type": "execute_result"
    }
   ],
   "source": [
    "a = \"Howl's Moving Castle\"\n",
    "a.ljust(30,'-')"
   ]
  },
  {
   "cell_type": "code",
   "execution_count": 30,
   "id": "6f6c9a1f-6177-4b31-9864-eca7761107d5",
   "metadata": {},
   "outputs": [
    {
     "data": {
      "text/plain": [
       "\"----------Howl's Moving Castle\""
      ]
     },
     "execution_count": 30,
     "metadata": {},
     "output_type": "execute_result"
    }
   ],
   "source": [
    "a = \"Howl's Moving Castle\"\n",
    "a.rjust(30,'-')"
   ]
  },
  {
   "cell_type": "raw",
   "id": "0cc562a9-7981-4895-80a5-1efffd5b6636",
   "metadata": {},
   "source": [
    "10. What is the best way to remove whitespace characters from the start or end?"
   ]
  },
  {
   "cell_type": "code",
   "execution_count": 38,
   "id": "8a8bfe49-1cb4-499b-a45c-b2efa9dbca10",
   "metadata": {},
   "outputs": [
    {
     "data": {
      "text/plain": [
       "\"Howl's-Moving-Castle====\""
      ]
     },
     "execution_count": 38,
     "metadata": {},
     "output_type": "execute_result"
    }
   ],
   "source": [
    "a = \"====Howl's-Moving-Castle====\"\n",
    "a.lstrip(\"=\")"
   ]
  },
  {
   "cell_type": "code",
   "execution_count": 39,
   "id": "df9bfac4-4c0d-4031-a5d5-6ea6a2c4b2d8",
   "metadata": {},
   "outputs": [
    {
     "data": {
      "text/plain": [
       "\"====Howl's-Moving-Castle\""
      ]
     },
     "execution_count": 39,
     "metadata": {},
     "output_type": "execute_result"
    }
   ],
   "source": [
    "a = \"====Howl's-Moving-Castle====\"\n",
    "a.rstrip(\"=\")"
   ]
  },
  {
   "cell_type": "code",
   "execution_count": 40,
   "id": "1739cb0d-623d-4f79-a00f-cfab63b0b0a7",
   "metadata": {},
   "outputs": [
    {
     "data": {
      "text/plain": [
       "\"Howl's-Moving-Castle\""
      ]
     },
     "execution_count": 40,
     "metadata": {},
     "output_type": "execute_result"
    }
   ],
   "source": [
    "a = \"====Howl's-Moving-Castle====\"\n",
    "a.strip(\"=\")"
   ]
  },
  {
   "cell_type": "code",
   "execution_count": null,
   "id": "fefb82c6-9ed6-4dd5-be7f-ce81a566ac2b",
   "metadata": {},
   "outputs": [],
   "source": []
  }
 ],
 "metadata": {
  "kernelspec": {
   "display_name": "Python 3 (ipykernel)",
   "language": "python",
   "name": "python3"
  },
  "language_info": {
   "codemirror_mode": {
    "name": "ipython",
    "version": 3
   },
   "file_extension": ".py",
   "mimetype": "text/x-python",
   "name": "python",
   "nbconvert_exporter": "python",
   "pygments_lexer": "ipython3",
   "version": "3.10.6"
  }
 },
 "nbformat": 4,
 "nbformat_minor": 5
}
